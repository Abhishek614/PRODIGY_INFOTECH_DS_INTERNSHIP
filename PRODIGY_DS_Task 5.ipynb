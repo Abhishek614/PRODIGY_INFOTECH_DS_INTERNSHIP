{
 "cells": [
  {
   "cell_type": "code",
   "execution_count": 95,
   "id": "e1235905-649e-4625-aa65-0d097e6e71da",
   "metadata": {},
   "outputs": [],
   "source": [
    "import pandas as pd\n",
    "import numpy as np\n",
    "import seaborn as sns\n",
    "import matplotlib.pyplot as plt"
   ]
  },
  {
   "cell_type": "code",
   "execution_count": 96,
   "id": "3d66b3b0-06b8-4c92-8955-5b6ee1351fe4",
   "metadata": {},
   "outputs": [],
   "source": [
    "df_USA=pd.read_csv('accidents.csv')"
   ]
  },
  {
   "cell_type": "code",
   "execution_count": 97,
   "id": "bb605b3d-853c-40bd-a8f3-0552bed0873a",
   "metadata": {},
   "outputs": [
    {
     "data": {
      "text/html": [
       "<div>\n",
       "<style scoped>\n",
       "    .dataframe tbody tr th:only-of-type {\n",
       "        vertical-align: middle;\n",
       "    }\n",
       "\n",
       "    .dataframe tbody tr th {\n",
       "        vertical-align: top;\n",
       "    }\n",
       "\n",
       "    .dataframe thead th {\n",
       "        text-align: right;\n",
       "    }\n",
       "</style>\n",
       "<table border=\"1\" class=\"dataframe\">\n",
       "  <thead>\n",
       "    <tr style=\"text-align: right;\">\n",
       "      <th></th>\n",
       "      <th>AccidentDate</th>\n",
       "      <th>Timing</th>\n",
       "      <th>State</th>\n",
       "      <th>WeatherCondition</th>\n",
       "      <th>RoadCondition</th>\n",
       "      <th>Deaths</th>\n",
       "      <th>Reason</th>\n",
       "    </tr>\n",
       "  </thead>\n",
       "  <tbody>\n",
       "    <tr>\n",
       "      <th>0</th>\n",
       "      <td>04-02-2013</td>\n",
       "      <td>Morning</td>\n",
       "      <td>Alaska</td>\n",
       "      <td>Rainy</td>\n",
       "      <td>Under Construction</td>\n",
       "      <td>10</td>\n",
       "      <td>Drunk Driving</td>\n",
       "    </tr>\n",
       "    <tr>\n",
       "      <th>1</th>\n",
       "      <td>23-02-2005</td>\n",
       "      <td>Night</td>\n",
       "      <td>Arizona</td>\n",
       "      <td>Clear</td>\n",
       "      <td>Under Construction</td>\n",
       "      <td>3</td>\n",
       "      <td>Weather Conditions</td>\n",
       "    </tr>\n",
       "    <tr>\n",
       "      <th>2</th>\n",
       "      <td>08-10-2014</td>\n",
       "      <td>Afternoon</td>\n",
       "      <td>California</td>\n",
       "      <td>Clear</td>\n",
       "      <td>Fine</td>\n",
       "      <td>6</td>\n",
       "      <td>Poor Visibility</td>\n",
       "    </tr>\n",
       "    <tr>\n",
       "      <th>3</th>\n",
       "      <td>14-01-2015</td>\n",
       "      <td>Night</td>\n",
       "      <td>Colorado</td>\n",
       "      <td>Rainy</td>\n",
       "      <td>Rough</td>\n",
       "      <td>8</td>\n",
       "      <td>Road Conditions</td>\n",
       "    </tr>\n",
       "    <tr>\n",
       "      <th>4</th>\n",
       "      <td>17-01-2006</td>\n",
       "      <td>Afternoon</td>\n",
       "      <td>Georgia</td>\n",
       "      <td>Clear</td>\n",
       "      <td>Fine</td>\n",
       "      <td>2</td>\n",
       "      <td>Speeding</td>\n",
       "    </tr>\n",
       "  </tbody>\n",
       "</table>\n",
       "</div>"
      ],
      "text/plain": [
       "  AccidentDate     Timing       State WeatherCondition       RoadCondition  \\\n",
       "0   04-02-2013    Morning      Alaska            Rainy  Under Construction   \n",
       "1   23-02-2005      Night     Arizona            Clear  Under Construction   \n",
       "2   08-10-2014  Afternoon  California            Clear                Fine   \n",
       "3   14-01-2015      Night    Colorado            Rainy               Rough   \n",
       "4   17-01-2006  Afternoon     Georgia            Clear                Fine   \n",
       "\n",
       "   Deaths              Reason  \n",
       "0      10       Drunk Driving  \n",
       "1       3  Weather Conditions  \n",
       "2       6     Poor Visibility  \n",
       "3       8     Road Conditions  \n",
       "4       2            Speeding  "
      ]
     },
     "execution_count": 97,
     "metadata": {},
     "output_type": "execute_result"
    }
   ],
   "source": [
    "df_USA.head()"
   ]
  },
  {
   "cell_type": "code",
   "execution_count": 98,
   "id": "a95d9d8f-d8d6-4771-8252-b38743397253",
   "metadata": {},
   "outputs": [
    {
     "data": {
      "text/html": [
       "<div>\n",
       "<style scoped>\n",
       "    .dataframe tbody tr th:only-of-type {\n",
       "        vertical-align: middle;\n",
       "    }\n",
       "\n",
       "    .dataframe tbody tr th {\n",
       "        vertical-align: top;\n",
       "    }\n",
       "\n",
       "    .dataframe thead th {\n",
       "        text-align: right;\n",
       "    }\n",
       "</style>\n",
       "<table border=\"1\" class=\"dataframe\">\n",
       "  <thead>\n",
       "    <tr style=\"text-align: right;\">\n",
       "      <th></th>\n",
       "      <th>AccidentDate</th>\n",
       "      <th>Timing</th>\n",
       "      <th>State</th>\n",
       "      <th>WeatherCondition</th>\n",
       "      <th>RoadCondition</th>\n",
       "      <th>Deaths</th>\n",
       "      <th>Reason</th>\n",
       "    </tr>\n",
       "  </thead>\n",
       "  <tbody>\n",
       "    <tr>\n",
       "      <th>49995</th>\n",
       "      <td>20-08-2002</td>\n",
       "      <td>Night</td>\n",
       "      <td>Virginia</td>\n",
       "      <td>Clear</td>\n",
       "      <td>Under Construction</td>\n",
       "      <td>2</td>\n",
       "      <td>Mechanical Failure</td>\n",
       "    </tr>\n",
       "    <tr>\n",
       "      <th>49996</th>\n",
       "      <td>15-05-2012</td>\n",
       "      <td>Night</td>\n",
       "      <td>Virginia</td>\n",
       "      <td>Clear</td>\n",
       "      <td>Under Construction</td>\n",
       "      <td>0</td>\n",
       "      <td>Mechanical Failure</td>\n",
       "    </tr>\n",
       "    <tr>\n",
       "      <th>49997</th>\n",
       "      <td>19-05-2007</td>\n",
       "      <td>Evening</td>\n",
       "      <td>North Carolina</td>\n",
       "      <td>Rainy</td>\n",
       "      <td>Under Construction</td>\n",
       "      <td>2</td>\n",
       "      <td>Driver Fatigue</td>\n",
       "    </tr>\n",
       "    <tr>\n",
       "      <th>49998</th>\n",
       "      <td>04-08-2019</td>\n",
       "      <td>Night</td>\n",
       "      <td>South Carolina</td>\n",
       "      <td>Clear</td>\n",
       "      <td>Fine</td>\n",
       "      <td>0</td>\n",
       "      <td>Distracted Driving</td>\n",
       "    </tr>\n",
       "    <tr>\n",
       "      <th>49999</th>\n",
       "      <td>25-04-2019</td>\n",
       "      <td>Evening</td>\n",
       "      <td>Georgia</td>\n",
       "      <td>Rainy</td>\n",
       "      <td>Fine</td>\n",
       "      <td>2</td>\n",
       "      <td>Weather Conditions</td>\n",
       "    </tr>\n",
       "  </tbody>\n",
       "</table>\n",
       "</div>"
      ],
      "text/plain": [
       "      AccidentDate   Timing           State WeatherCondition  \\\n",
       "49995   20-08-2002    Night        Virginia            Clear   \n",
       "49996   15-05-2012    Night        Virginia            Clear   \n",
       "49997   19-05-2007  Evening  North Carolina            Rainy   \n",
       "49998   04-08-2019    Night  South Carolina            Clear   \n",
       "49999   25-04-2019  Evening         Georgia            Rainy   \n",
       "\n",
       "            RoadCondition  Deaths              Reason  \n",
       "49995  Under Construction       2  Mechanical Failure  \n",
       "49996  Under Construction       0  Mechanical Failure  \n",
       "49997  Under Construction       2      Driver Fatigue  \n",
       "49998                Fine       0  Distracted Driving  \n",
       "49999                Fine       2  Weather Conditions  "
      ]
     },
     "execution_count": 98,
     "metadata": {},
     "output_type": "execute_result"
    }
   ],
   "source": [
    "df_USA.tail()"
   ]
  },
  {
   "cell_type": "code",
   "execution_count": 99,
   "id": "b7ffe198-eaec-4d5b-9905-8bc0391080ae",
   "metadata": {},
   "outputs": [
    {
     "data": {
      "text/plain": [
       "Index(['AccidentDate', 'Timing', 'State', 'WeatherCondition', 'RoadCondition',\n",
       "       'Deaths', 'Reason'],\n",
       "      dtype='object')"
      ]
     },
     "execution_count": 99,
     "metadata": {},
     "output_type": "execute_result"
    }
   ],
   "source": [
    "df_USA.columns"
   ]
  },
  {
   "cell_type": "code",
   "execution_count": 100,
   "id": "c148a012-3a43-4084-a0c8-a867dbe61e32",
   "metadata": {},
   "outputs": [
    {
     "data": {
      "text/plain": [
       "object    6\n",
       "int64     1\n",
       "Name: count, dtype: int64"
      ]
     },
     "execution_count": 100,
     "metadata": {},
     "output_type": "execute_result"
    }
   ],
   "source": [
    "df_USA.dtypes.value_counts()"
   ]
  },
  {
   "cell_type": "code",
   "execution_count": 101,
   "id": "e36f5f71-654e-42bb-a28b-de3ca3676b08",
   "metadata": {},
   "outputs": [
    {
     "data": {
      "text/plain": [
       "(50000, 7)"
      ]
     },
     "execution_count": 101,
     "metadata": {},
     "output_type": "execute_result"
    }
   ],
   "source": [
    "df_USA.shape "
   ]
  },
  {
   "cell_type": "code",
   "execution_count": 102,
   "id": "a48c3107-b684-44ef-9554-d004d9143af5",
   "metadata": {},
   "outputs": [
    {
     "data": {
      "text/html": [
       "<div>\n",
       "<style scoped>\n",
       "    .dataframe tbody tr th:only-of-type {\n",
       "        vertical-align: middle;\n",
       "    }\n",
       "\n",
       "    .dataframe tbody tr th {\n",
       "        vertical-align: top;\n",
       "    }\n",
       "\n",
       "    .dataframe thead th {\n",
       "        text-align: right;\n",
       "    }\n",
       "</style>\n",
       "<table border=\"1\" class=\"dataframe\">\n",
       "  <thead>\n",
       "    <tr style=\"text-align: right;\">\n",
       "      <th></th>\n",
       "      <th>Deaths</th>\n",
       "    </tr>\n",
       "  </thead>\n",
       "  <tbody>\n",
       "    <tr>\n",
       "      <th>count</th>\n",
       "      <td>50000.000000</td>\n",
       "    </tr>\n",
       "    <tr>\n",
       "      <th>mean</th>\n",
       "      <td>4.983040</td>\n",
       "    </tr>\n",
       "    <tr>\n",
       "      <th>std</th>\n",
       "      <td>3.160581</td>\n",
       "    </tr>\n",
       "    <tr>\n",
       "      <th>min</th>\n",
       "      <td>0.000000</td>\n",
       "    </tr>\n",
       "    <tr>\n",
       "      <th>25%</th>\n",
       "      <td>2.000000</td>\n",
       "    </tr>\n",
       "    <tr>\n",
       "      <th>50%</th>\n",
       "      <td>5.000000</td>\n",
       "    </tr>\n",
       "    <tr>\n",
       "      <th>75%</th>\n",
       "      <td>8.000000</td>\n",
       "    </tr>\n",
       "    <tr>\n",
       "      <th>max</th>\n",
       "      <td>10.000000</td>\n",
       "    </tr>\n",
       "  </tbody>\n",
       "</table>\n",
       "</div>"
      ],
      "text/plain": [
       "             Deaths\n",
       "count  50000.000000\n",
       "mean       4.983040\n",
       "std        3.160581\n",
       "min        0.000000\n",
       "25%        2.000000\n",
       "50%        5.000000\n",
       "75%        8.000000\n",
       "max       10.000000"
      ]
     },
     "execution_count": 102,
     "metadata": {},
     "output_type": "execute_result"
    }
   ],
   "source": [
    "df_USA.describe()"
   ]
  },
  {
   "cell_type": "code",
   "execution_count": 103,
   "id": "16c6a617-8592-414e-8b82-526c0757f086",
   "metadata": {},
   "outputs": [
    {
     "data": {
      "text/plain": [
       "<bound method Series.unique of 0                Alaska\n",
       "1               Arizona\n",
       "2            California\n",
       "3              Colorado\n",
       "4               Georgia\n",
       "              ...      \n",
       "49995          Virginia\n",
       "49996          Virginia\n",
       "49997    North Carolina\n",
       "49998    South Carolina\n",
       "49999           Georgia\n",
       "Name: State, Length: 50000, dtype: object>"
      ]
     },
     "execution_count": 103,
     "metadata": {},
     "output_type": "execute_result"
    }
   ],
   "source": [
    "df_USA.State.unique"
   ]
  },
  {
   "cell_type": "code",
   "execution_count": 141,
   "id": "5deb1d0a-af0a-4eaa-ae5d-3f6f3020db04",
   "metadata": {},
   "outputs": [],
   "source": [
    "df1=df_USA[df_USA['State']=='Virginia']"
   ]
  },
  {
   "cell_type": "code",
   "execution_count": 142,
   "id": "3125a267-321f-4b4e-ad19-b87e52bd9d6f",
   "metadata": {},
   "outputs": [
    {
     "name": "stderr",
     "output_type": "stream",
     "text": [
      "<>:1: SyntaxWarning: invalid escape sequence '\\d'\n",
      "<>:1: SyntaxWarning: invalid escape sequence '\\d'\n",
      "C:\\Users\\abhis\\AppData\\Local\\Temp\\ipykernel_14016\\3268597611.py:1: SyntaxWarning: invalid escape sequence '\\d'\n",
      "  df1['IDD'] = df1['Timing'].astype('str').str.extractall('(\\d+)').unstack().fillna('').sum(axis=1).astype(int)\n",
      "C:\\Users\\abhis\\AppData\\Local\\Temp\\ipykernel_14016\\3268597611.py:1: SettingWithCopyWarning: \n",
      "A value is trying to be set on a copy of a slice from a DataFrame.\n",
      "Try using .loc[row_indexer,col_indexer] = value instead\n",
      "\n",
      "See the caveats in the documentation: https://pandas.pydata.org/pandas-docs/stable/user_guide/indexing.html#returning-a-view-versus-a-copy\n",
      "  df1['IDD'] = df1['Timing'].astype('str').str.extractall('(\\d+)').unstack().fillna('').sum(axis=1).astype(int)\n"
     ]
    }
   ],
   "source": [
    "df1['IDD'] = df1['Timing'].astype('str').str.extractall('(\\d+)').unstack().fillna('').sum(axis=1).astype(int)"
   ]
  },
  {
   "cell_type": "code",
   "execution_count": 144,
   "id": "4cb8fbc9-7691-4791-ab4d-37f4b8191ee7",
   "metadata": {},
   "outputs": [
    {
     "data": {
      "text/html": [
       "<div>\n",
       "<style scoped>\n",
       "    .dataframe tbody tr th:only-of-type {\n",
       "        vertical-align: middle;\n",
       "    }\n",
       "\n",
       "    .dataframe tbody tr th {\n",
       "        vertical-align: top;\n",
       "    }\n",
       "\n",
       "    .dataframe thead th {\n",
       "        text-align: right;\n",
       "    }\n",
       "</style>\n",
       "<table border=\"1\" class=\"dataframe\">\n",
       "  <thead>\n",
       "    <tr style=\"text-align: right;\">\n",
       "      <th></th>\n",
       "      <th>AccidentDate</th>\n",
       "      <th>Timing</th>\n",
       "      <th>State</th>\n",
       "      <th>WeatherCondition</th>\n",
       "      <th>RoadCondition</th>\n",
       "      <th>Deaths</th>\n",
       "      <th>Reason</th>\n",
       "      <th>IDD</th>\n",
       "    </tr>\n",
       "  </thead>\n",
       "  <tbody>\n",
       "    <tr>\n",
       "      <th>22</th>\n",
       "      <td>29-11-2023</td>\n",
       "      <td>Afternoon</td>\n",
       "      <td>Virginia</td>\n",
       "      <td>Rainy</td>\n",
       "      <td>Under Construction</td>\n",
       "      <td>6</td>\n",
       "      <td>Reckless Driving</td>\n",
       "      <td>NaN</td>\n",
       "    </tr>\n",
       "    <tr>\n",
       "      <th>41</th>\n",
       "      <td>30-06-2023</td>\n",
       "      <td>Morning</td>\n",
       "      <td>Virginia</td>\n",
       "      <td>Foggy</td>\n",
       "      <td>Rough</td>\n",
       "      <td>9</td>\n",
       "      <td>Mechanical Failure</td>\n",
       "      <td>NaN</td>\n",
       "    </tr>\n",
       "    <tr>\n",
       "      <th>60</th>\n",
       "      <td>14-05-2021</td>\n",
       "      <td>Morning</td>\n",
       "      <td>Virginia</td>\n",
       "      <td>Rainy</td>\n",
       "      <td>Fine</td>\n",
       "      <td>0</td>\n",
       "      <td>Road Conditions</td>\n",
       "      <td>NaN</td>\n",
       "    </tr>\n",
       "    <tr>\n",
       "      <th>102</th>\n",
       "      <td>25-07-2007</td>\n",
       "      <td>Night</td>\n",
       "      <td>Virginia</td>\n",
       "      <td>Rainy</td>\n",
       "      <td>Under Construction</td>\n",
       "      <td>2</td>\n",
       "      <td>Reckless Driving</td>\n",
       "      <td>NaN</td>\n",
       "    </tr>\n",
       "    <tr>\n",
       "      <th>188</th>\n",
       "      <td>13-06-2012</td>\n",
       "      <td>Night</td>\n",
       "      <td>Virginia</td>\n",
       "      <td>Clear</td>\n",
       "      <td>Under Construction</td>\n",
       "      <td>1</td>\n",
       "      <td>Mechanical Failure</td>\n",
       "      <td>NaN</td>\n",
       "    </tr>\n",
       "    <tr>\n",
       "      <th>...</th>\n",
       "      <td>...</td>\n",
       "      <td>...</td>\n",
       "      <td>...</td>\n",
       "      <td>...</td>\n",
       "      <td>...</td>\n",
       "      <td>...</td>\n",
       "      <td>...</td>\n",
       "      <td>...</td>\n",
       "    </tr>\n",
       "    <tr>\n",
       "      <th>49925</th>\n",
       "      <td>29-01-2019</td>\n",
       "      <td>Night</td>\n",
       "      <td>Virginia</td>\n",
       "      <td>Rainy</td>\n",
       "      <td>Rough</td>\n",
       "      <td>8</td>\n",
       "      <td>Distracted Driving</td>\n",
       "      <td>NaN</td>\n",
       "    </tr>\n",
       "    <tr>\n",
       "      <th>49938</th>\n",
       "      <td>23-10-2002</td>\n",
       "      <td>Morning</td>\n",
       "      <td>Virginia</td>\n",
       "      <td>Foggy</td>\n",
       "      <td>Fine</td>\n",
       "      <td>2</td>\n",
       "      <td>Poor Visibility</td>\n",
       "      <td>NaN</td>\n",
       "    </tr>\n",
       "    <tr>\n",
       "      <th>49984</th>\n",
       "      <td>14-12-2021</td>\n",
       "      <td>Afternoon</td>\n",
       "      <td>Virginia</td>\n",
       "      <td>Foggy</td>\n",
       "      <td>Fine</td>\n",
       "      <td>2</td>\n",
       "      <td>Reckless Driving</td>\n",
       "      <td>NaN</td>\n",
       "    </tr>\n",
       "    <tr>\n",
       "      <th>49995</th>\n",
       "      <td>20-08-2002</td>\n",
       "      <td>Night</td>\n",
       "      <td>Virginia</td>\n",
       "      <td>Clear</td>\n",
       "      <td>Under Construction</td>\n",
       "      <td>2</td>\n",
       "      <td>Mechanical Failure</td>\n",
       "      <td>NaN</td>\n",
       "    </tr>\n",
       "    <tr>\n",
       "      <th>49996</th>\n",
       "      <td>15-05-2012</td>\n",
       "      <td>Night</td>\n",
       "      <td>Virginia</td>\n",
       "      <td>Clear</td>\n",
       "      <td>Under Construction</td>\n",
       "      <td>0</td>\n",
       "      <td>Mechanical Failure</td>\n",
       "      <td>NaN</td>\n",
       "    </tr>\n",
       "  </tbody>\n",
       "</table>\n",
       "<p>1808 rows × 8 columns</p>\n",
       "</div>"
      ],
      "text/plain": [
       "      AccidentDate     Timing     State WeatherCondition       RoadCondition  \\\n",
       "22      29-11-2023  Afternoon  Virginia            Rainy  Under Construction   \n",
       "41      30-06-2023    Morning  Virginia            Foggy               Rough   \n",
       "60      14-05-2021    Morning  Virginia            Rainy                Fine   \n",
       "102     25-07-2007      Night  Virginia            Rainy  Under Construction   \n",
       "188     13-06-2012      Night  Virginia            Clear  Under Construction   \n",
       "...            ...        ...       ...              ...                 ...   \n",
       "49925   29-01-2019      Night  Virginia            Rainy               Rough   \n",
       "49938   23-10-2002    Morning  Virginia            Foggy                Fine   \n",
       "49984   14-12-2021  Afternoon  Virginia            Foggy                Fine   \n",
       "49995   20-08-2002      Night  Virginia            Clear  Under Construction   \n",
       "49996   15-05-2012      Night  Virginia            Clear  Under Construction   \n",
       "\n",
       "       Deaths              Reason  IDD  \n",
       "22          6    Reckless Driving  NaN  \n",
       "41          9  Mechanical Failure  NaN  \n",
       "60          0     Road Conditions  NaN  \n",
       "102         2    Reckless Driving  NaN  \n",
       "188         1  Mechanical Failure  NaN  \n",
       "...       ...                 ...  ...  \n",
       "49925       8  Distracted Driving  NaN  \n",
       "49938       2     Poor Visibility  NaN  \n",
       "49984       2    Reckless Driving  NaN  \n",
       "49995       2  Mechanical Failure  NaN  \n",
       "49996       0  Mechanical Failure  NaN  \n",
       "\n",
       "[1808 rows x 8 columns]"
      ]
     },
     "execution_count": 144,
     "metadata": {},
     "output_type": "execute_result"
    }
   ],
   "source": [
    "df1"
   ]
  },
  {
   "cell_type": "code",
   "execution_count": 107,
   "id": "58550dee-869b-405d-9f00-eacf26506de5",
   "metadata": {},
   "outputs": [
    {
     "data": {
      "text/html": [
       "<div>\n",
       "<style scoped>\n",
       "    .dataframe tbody tr th:only-of-type {\n",
       "        vertical-align: middle;\n",
       "    }\n",
       "\n",
       "    .dataframe tbody tr th {\n",
       "        vertical-align: top;\n",
       "    }\n",
       "\n",
       "    .dataframe thead th {\n",
       "        text-align: right;\n",
       "    }\n",
       "</style>\n",
       "<table border=\"1\" class=\"dataframe\">\n",
       "  <thead>\n",
       "    <tr style=\"text-align: right;\">\n",
       "      <th></th>\n",
       "      <th>AccidentDate</th>\n",
       "      <th>Timing</th>\n",
       "      <th>State</th>\n",
       "      <th>WeatherCondition</th>\n",
       "      <th>RoadCondition</th>\n",
       "      <th>Deaths</th>\n",
       "      <th>Reason</th>\n",
       "      <th>IDD</th>\n",
       "    </tr>\n",
       "  </thead>\n",
       "  <tbody>\n",
       "    <tr>\n",
       "      <th>22</th>\n",
       "      <td>29-11-2023</td>\n",
       "      <td>Afternoon</td>\n",
       "      <td>Virginia</td>\n",
       "      <td>Rainy</td>\n",
       "      <td>Under Construction</td>\n",
       "      <td>6</td>\n",
       "      <td>Reckless Driving</td>\n",
       "      <td>NaN</td>\n",
       "    </tr>\n",
       "    <tr>\n",
       "      <th>41</th>\n",
       "      <td>30-06-2023</td>\n",
       "      <td>Morning</td>\n",
       "      <td>Virginia</td>\n",
       "      <td>Foggy</td>\n",
       "      <td>Rough</td>\n",
       "      <td>9</td>\n",
       "      <td>Mechanical Failure</td>\n",
       "      <td>NaN</td>\n",
       "    </tr>\n",
       "    <tr>\n",
       "      <th>60</th>\n",
       "      <td>14-05-2021</td>\n",
       "      <td>Morning</td>\n",
       "      <td>Virginia</td>\n",
       "      <td>Rainy</td>\n",
       "      <td>Fine</td>\n",
       "      <td>0</td>\n",
       "      <td>Road Conditions</td>\n",
       "      <td>NaN</td>\n",
       "    </tr>\n",
       "    <tr>\n",
       "      <th>102</th>\n",
       "      <td>25-07-2007</td>\n",
       "      <td>Night</td>\n",
       "      <td>Virginia</td>\n",
       "      <td>Rainy</td>\n",
       "      <td>Under Construction</td>\n",
       "      <td>2</td>\n",
       "      <td>Reckless Driving</td>\n",
       "      <td>NaN</td>\n",
       "    </tr>\n",
       "    <tr>\n",
       "      <th>188</th>\n",
       "      <td>13-06-2012</td>\n",
       "      <td>Night</td>\n",
       "      <td>Virginia</td>\n",
       "      <td>Clear</td>\n",
       "      <td>Under Construction</td>\n",
       "      <td>1</td>\n",
       "      <td>Mechanical Failure</td>\n",
       "      <td>NaN</td>\n",
       "    </tr>\n",
       "  </tbody>\n",
       "</table>\n",
       "</div>"
      ],
      "text/plain": [
       "    AccidentDate     Timing     State WeatherCondition       RoadCondition  \\\n",
       "22    29-11-2023  Afternoon  Virginia            Rainy  Under Construction   \n",
       "41    30-06-2023    Morning  Virginia            Foggy               Rough   \n",
       "60    14-05-2021    Morning  Virginia            Rainy                Fine   \n",
       "102   25-07-2007      Night  Virginia            Rainy  Under Construction   \n",
       "188   13-06-2012      Night  Virginia            Clear  Under Construction   \n",
       "\n",
       "     Deaths              Reason  IDD  \n",
       "22        6    Reckless Driving  NaN  \n",
       "41        9  Mechanical Failure  NaN  \n",
       "60        0     Road Conditions  NaN  \n",
       "102       2    Reckless Driving  NaN  \n",
       "188       1  Mechanical Failure  NaN  "
      ]
     },
     "execution_count": 107,
     "metadata": {},
     "output_type": "execute_result"
    }
   ],
   "source": [
    "df1.head()"
   ]
  },
  {
   "cell_type": "code",
   "execution_count": 63,
   "id": "c6837545-1cea-4610-93f5-84282c22cf8a",
   "metadata": {},
   "outputs": [
    {
     "data": {
      "text/html": [
       "<div>\n",
       "<style scoped>\n",
       "    .dataframe tbody tr th:only-of-type {\n",
       "        vertical-align: middle;\n",
       "    }\n",
       "\n",
       "    .dataframe tbody tr th {\n",
       "        vertical-align: top;\n",
       "    }\n",
       "\n",
       "    .dataframe thead th {\n",
       "        text-align: right;\n",
       "    }\n",
       "</style>\n",
       "<table border=\"1\" class=\"dataframe\">\n",
       "  <thead>\n",
       "    <tr style=\"text-align: right;\">\n",
       "      <th></th>\n",
       "      <th>AccidentDate</th>\n",
       "      <th>Timing</th>\n",
       "      <th>State</th>\n",
       "      <th>WeatherCondition</th>\n",
       "      <th>RoadCondition</th>\n",
       "      <th>Deaths</th>\n",
       "      <th>Reason</th>\n",
       "      <th>IDD</th>\n",
       "    </tr>\n",
       "  </thead>\n",
       "  <tbody>\n",
       "    <tr>\n",
       "      <th>49925</th>\n",
       "      <td>29-01-2019</td>\n",
       "      <td>Night</td>\n",
       "      <td>Virginia</td>\n",
       "      <td>Rainy</td>\n",
       "      <td>Rough</td>\n",
       "      <td>8</td>\n",
       "      <td>Distracted Driving</td>\n",
       "      <td>NaN</td>\n",
       "    </tr>\n",
       "    <tr>\n",
       "      <th>49938</th>\n",
       "      <td>23-10-2002</td>\n",
       "      <td>Morning</td>\n",
       "      <td>Virginia</td>\n",
       "      <td>Foggy</td>\n",
       "      <td>Fine</td>\n",
       "      <td>2</td>\n",
       "      <td>Poor Visibility</td>\n",
       "      <td>NaN</td>\n",
       "    </tr>\n",
       "    <tr>\n",
       "      <th>49984</th>\n",
       "      <td>14-12-2021</td>\n",
       "      <td>Afternoon</td>\n",
       "      <td>Virginia</td>\n",
       "      <td>Foggy</td>\n",
       "      <td>Fine</td>\n",
       "      <td>2</td>\n",
       "      <td>Reckless Driving</td>\n",
       "      <td>NaN</td>\n",
       "    </tr>\n",
       "    <tr>\n",
       "      <th>49995</th>\n",
       "      <td>20-08-2002</td>\n",
       "      <td>Night</td>\n",
       "      <td>Virginia</td>\n",
       "      <td>Clear</td>\n",
       "      <td>Under Construction</td>\n",
       "      <td>2</td>\n",
       "      <td>Mechanical Failure</td>\n",
       "      <td>NaN</td>\n",
       "    </tr>\n",
       "    <tr>\n",
       "      <th>49996</th>\n",
       "      <td>15-05-2012</td>\n",
       "      <td>Night</td>\n",
       "      <td>Virginia</td>\n",
       "      <td>Clear</td>\n",
       "      <td>Under Construction</td>\n",
       "      <td>0</td>\n",
       "      <td>Mechanical Failure</td>\n",
       "      <td>NaN</td>\n",
       "    </tr>\n",
       "  </tbody>\n",
       "</table>\n",
       "</div>"
      ],
      "text/plain": [
       "      AccidentDate     Timing     State WeatherCondition       RoadCondition  \\\n",
       "49925   29-01-2019      Night  Virginia            Rainy               Rough   \n",
       "49938   23-10-2002    Morning  Virginia            Foggy                Fine   \n",
       "49984   14-12-2021  Afternoon  Virginia            Foggy                Fine   \n",
       "49995   20-08-2002      Night  Virginia            Clear  Under Construction   \n",
       "49996   15-05-2012      Night  Virginia            Clear  Under Construction   \n",
       "\n",
       "       Deaths              Reason  IDD  \n",
       "49925       8  Distracted Driving  NaN  \n",
       "49938       2     Poor Visibility  NaN  \n",
       "49984       2    Reckless Driving  NaN  \n",
       "49995       2  Mechanical Failure  NaN  \n",
       "49996       0  Mechanical Failure  NaN  "
      ]
     },
     "execution_count": 63,
     "metadata": {},
     "output_type": "execute_result"
    }
   ],
   "source": [
    "df1.tail()"
   ]
  },
  {
   "cell_type": "code",
   "execution_count": 64,
   "id": "fc138d95-3a28-417b-8b22-95d27fd4a0d5",
   "metadata": {},
   "outputs": [
    {
     "data": {
      "text/plain": [
       "(1808, 8)"
      ]
     },
     "execution_count": 64,
     "metadata": {},
     "output_type": "execute_result"
    }
   ],
   "source": [
    "df1.shape"
   ]
  },
  {
   "cell_type": "code",
   "execution_count": 65,
   "id": "c493cabd-c128-4de4-a469-bdaad2e1a6ff",
   "metadata": {},
   "outputs": [
    {
     "data": {
      "text/plain": [
       "Index(['AccidentDate', 'Timing', 'State', 'WeatherCondition', 'RoadCondition',\n",
       "       'Deaths', 'Reason', 'IDD'],\n",
       "      dtype='object')"
      ]
     },
     "execution_count": 65,
     "metadata": {},
     "output_type": "execute_result"
    }
   ],
   "source": [
    "df1.columns"
   ]
  },
  {
   "cell_type": "code",
   "execution_count": 66,
   "id": "b616c438-756b-4078-8c3b-817eaeaf243b",
   "metadata": {},
   "outputs": [],
   "source": [
    "d1f=df1.dropna(subset=['AccidentDate'])    "
   ]
  },
  {
   "cell_type": "code",
   "execution_count": 67,
   "id": "5de740a6-c978-46f6-9197-ac0ad8a27b97",
   "metadata": {},
   "outputs": [],
   "source": [
    "f1=df1.dropna(subset=['AccidentDate', 'Timing', 'State', 'WeatherCondition', 'RoadCondition',\n",
    "       'Deaths', 'Reason', 'IDD'])"
   ]
  },
  {
   "cell_type": "code",
   "execution_count": 68,
   "id": "d20dc1c3-f201-417a-94fa-86056d69e7bd",
   "metadata": {},
   "outputs": [
    {
     "data": {
      "text/plain": [
       "AccidentDate          0.0\n",
       "Timing                0.0\n",
       "State                 0.0\n",
       "WeatherCondition      0.0\n",
       "RoadCondition         0.0\n",
       "Deaths                0.0\n",
       "Reason                0.0\n",
       "IDD                 100.0\n",
       "dtype: float64"
      ]
     },
     "execution_count": 68,
     "metadata": {},
     "output_type": "execute_result"
    }
   ],
   "source": [
    "df1.isna().sum()/len(df1)*100"
   ]
  },
  {
   "cell_type": "code",
   "execution_count": 69,
   "id": "9e718f73-03cb-4b9d-8cba-4246424732bd",
   "metadata": {},
   "outputs": [
    {
     "data": {
      "text/html": [
       "<div>\n",
       "<style scoped>\n",
       "    .dataframe tbody tr th:only-of-type {\n",
       "        vertical-align: middle;\n",
       "    }\n",
       "\n",
       "    .dataframe tbody tr th {\n",
       "        vertical-align: top;\n",
       "    }\n",
       "\n",
       "    .dataframe thead th {\n",
       "        text-align: right;\n",
       "    }\n",
       "</style>\n",
       "<table border=\"1\" class=\"dataframe\">\n",
       "  <thead>\n",
       "    <tr style=\"text-align: right;\">\n",
       "      <th></th>\n",
       "      <th>feature</th>\n",
       "      <th>count_of_unique_values</th>\n",
       "    </tr>\n",
       "  </thead>\n",
       "  <tbody>\n",
       "    <tr>\n",
       "      <th>0</th>\n",
       "      <td>AccidentDate</td>\n",
       "      <td>1612</td>\n",
       "    </tr>\n",
       "    <tr>\n",
       "      <th>1</th>\n",
       "      <td>Timing</td>\n",
       "      <td>4</td>\n",
       "    </tr>\n",
       "    <tr>\n",
       "      <th>2</th>\n",
       "      <td>State</td>\n",
       "      <td>1</td>\n",
       "    </tr>\n",
       "    <tr>\n",
       "      <th>3</th>\n",
       "      <td>WeatherCondition</td>\n",
       "      <td>3</td>\n",
       "    </tr>\n",
       "    <tr>\n",
       "      <th>4</th>\n",
       "      <td>RoadCondition</td>\n",
       "      <td>3</td>\n",
       "    </tr>\n",
       "    <tr>\n",
       "      <th>5</th>\n",
       "      <td>Reason</td>\n",
       "      <td>9</td>\n",
       "    </tr>\n",
       "  </tbody>\n",
       "</table>\n",
       "</div>"
      ],
      "text/plain": [
       "            feature  count_of_unique_values\n",
       "0      AccidentDate                    1612\n",
       "1            Timing                       4\n",
       "2             State                       1\n",
       "3  WeatherCondition                       3\n",
       "4     RoadCondition                       3\n",
       "5            Reason                       9"
      ]
     },
     "execution_count": 69,
     "metadata": {},
     "output_type": "execute_result"
    }
   ],
   "source": [
    "df_cat=df1.select_dtypes('object')\n",
    "col_name=[]\n",
    "length=[]\n",
    "\n",
    "for i in df_cat.columns:\n",
    "    col_name.append(i)\n",
    "    length.append(len(df_cat[i].unique()))\n",
    "df_2=pd.DataFrame(zip(col_name,length),columns=['feature','count_of_unique_values'])\n",
    "df_2\n"
   ]
  },
  {
   "cell_type": "code",
   "execution_count": 70,
   "id": "f2c2f3f1-93d5-455d-b470-1f09c65d51a3",
   "metadata": {},
   "outputs": [
    {
     "name": "stderr",
     "output_type": "stream",
     "text": [
      "C:\\Users\\abhis\\AppData\\Local\\Temp\\ipykernel_14016\\1704517305.py:1: SettingWithCopyWarning: \n",
      "A value is trying to be set on a copy of a slice from a DataFrame\n",
      "\n",
      "See the caveats in the documentation: https://pandas.pydata.org/pandas-docs/stable/user_guide/indexing.html#returning-a-view-versus-a-copy\n",
      "  df1.drop(['RoadCondition','Reason','Timing'],axis=1,inplace=True)\n"
     ]
    }
   ],
   "source": [
    "df1.drop(['RoadCondition','Reason','Timing'],axis=1,inplace=True)"
   ]
  },
  {
   "cell_type": "code",
   "execution_count": 71,
   "id": "32a66177-258f-4878-a638-0b2e9116c228",
   "metadata": {},
   "outputs": [],
   "source": [
    "del df1['AccidentDate']"
   ]
  },
  {
   "cell_type": "code",
   "execution_count": 72,
   "id": "d5c4a6df-2c7d-4fa1-affd-ba5a87abaa95",
   "metadata": {},
   "outputs": [
    {
     "data": {
      "text/plain": [
       "Index(['Deaths', 'IDD'], dtype='object')"
      ]
     },
     "execution_count": 72,
     "metadata": {},
     "output_type": "execute_result"
    }
   ],
   "source": [
    "df_num.columns"
   ]
  },
  {
   "cell_type": "code",
   "execution_count": 73,
   "id": "8681e070-a848-48ad-ba1c-0402c9114620",
   "metadata": {},
   "outputs": [
    {
     "data": {
      "text/plain": [
       "2"
      ]
     },
     "execution_count": 73,
     "metadata": {},
     "output_type": "execute_result"
    }
   ],
   "source": [
    "len(df_num.columns)"
   ]
  },
  {
   "cell_type": "code",
   "execution_count": 74,
   "id": "4759bd7d-aa72-4921-b6ec-2993494a7a2d",
   "metadata": {},
   "outputs": [
    {
     "data": {
      "text/plain": [
       "Index(['AccidentDate', 'Timing', 'State', 'WeatherCondition', 'RoadCondition',\n",
       "       'Reason'],\n",
       "      dtype='object')"
      ]
     },
     "execution_count": 74,
     "metadata": {},
     "output_type": "execute_result"
    }
   ],
   "source": [
    "df_cat.columns"
   ]
  },
  {
   "cell_type": "code",
   "execution_count": 110,
   "id": "6e3639ef-208e-445a-b4b5-fb3571abdc6e",
   "metadata": {},
   "outputs": [
    {
     "data": {
      "text/plain": [
       "1612"
      ]
     },
     "execution_count": 110,
     "metadata": {},
     "output_type": "execute_result"
    }
   ],
   "source": [
    "len(df1['AccidentDate'].unique())"
   ]
  },
  {
   "cell_type": "code",
   "execution_count": 76,
   "id": "2d6bf5b6-29b9-46d1-bad1-f5106dc7053c",
   "metadata": {},
   "outputs": [
    {
     "data": {
      "text/html": [
       "<div>\n",
       "<style scoped>\n",
       "    .dataframe tbody tr th:only-of-type {\n",
       "        vertical-align: middle;\n",
       "    }\n",
       "\n",
       "    .dataframe tbody tr th {\n",
       "        vertical-align: top;\n",
       "    }\n",
       "\n",
       "    .dataframe thead th {\n",
       "        text-align: right;\n",
       "    }\n",
       "</style>\n",
       "<table border=\"1\" class=\"dataframe\">\n",
       "  <thead>\n",
       "    <tr style=\"text-align: right;\">\n",
       "      <th></th>\n",
       "      <th>feature</th>\n",
       "      <th>count_of_unique_values</th>\n",
       "    </tr>\n",
       "  </thead>\n",
       "  <tbody>\n",
       "    <tr>\n",
       "      <th>0</th>\n",
       "      <td>Deaths</td>\n",
       "      <td>11</td>\n",
       "    </tr>\n",
       "    <tr>\n",
       "      <th>1</th>\n",
       "      <td>IDD</td>\n",
       "      <td>1</td>\n",
       "    </tr>\n",
       "  </tbody>\n",
       "</table>\n",
       "</div>"
      ],
      "text/plain": [
       "  feature  count_of_unique_values\n",
       "0  Deaths                      11\n",
       "1     IDD                       1"
      ]
     },
     "execution_count": 76,
     "metadata": {},
     "output_type": "execute_result"
    }
   ],
   "source": [
    "df_num=df1.select_dtypes(np.number)\n",
    "col_name=[]\n",
    "length=[]\n",
    "\n",
    "for i in df_num.columns:\n",
    "    col_name.append(i)\n",
    "    length.append(len(df_num[i].unique()))\n",
    "df_2=pd.DataFrame(zip(col_name,length),columns=['feature','count_of_unique_values'])\n",
    "df_2"
   ]
  },
  {
   "cell_type": "code",
   "execution_count": 27,
   "id": "9b646039-0dca-44bf-a32e-797c8a2418f6",
   "metadata": {},
   "outputs": [
    {
     "data": {
      "text/plain": [
       "<Axes: >"
      ]
     },
     "execution_count": 27,
     "metadata": {},
     "output_type": "execute_result"
    },
    {
     "data": {
      "image/png": "[encoded data removed]",
      "text/plain": [
       "<Figure size 1500x900 with 2 Axes>"
      ]
     },
     "metadata": {},
     "output_type": "display_data"
    }
   ],
   "source": [
    "plt.figure(figsize=(15 ,9))\n",
    "sns.heatmap(df_num.corr() , annot=True)"
   ]
  },
  {
   "cell_type": "code",
   "execution_count": 111,
   "id": "1f62489d-d665-4acb-9f32-a2a2dd8e4870",
   "metadata": {},
   "outputs": [
    {
     "data": {
      "text/plain": [
       "1612"
      ]
     },
     "execution_count": 111,
     "metadata": {},
     "output_type": "execute_result"
    }
   ],
   "source": [
    "Date = df1['AccidentDate'].unique()\n",
    "len(Date)"
   ]
  },
  {
   "cell_type": "code",
   "execution_count": 112,
   "id": "0d2eb3be-1ab0-4fe8-bcce-389656727f8a",
   "metadata": {},
   "outputs": [
    {
     "data": {
      "text/plain": [
       "AccidentDate\n",
       "24-03-2005    4\n",
       "11-05-2006    3\n",
       "20-09-2023    3\n",
       "21-09-2011    3\n",
       "24-06-2002    3\n",
       "             ..\n",
       "09-01-2021    1\n",
       "12-02-2004    1\n",
       "25-05-2012    1\n",
       "13-03-2016    1\n",
       "15-05-2012    1\n",
       "Name: count, Length: 1612, dtype: int64"
      ]
     },
     "execution_count": 112,
     "metadata": {},
     "output_type": "execute_result"
    }
   ],
   "source": [
    "Data = df1['AccidentDate'].value_counts()\n",
    "Data"
   ]
  },
  {
   "cell_type": "code",
   "execution_count": 90,
   "id": "8cbdfe36-c57b-4c21-b5eb-3f5aabc2cd96",
   "metadata": {},
   "outputs": [
    {
     "data": {
      "text/plain": [
       "Accident_Date\n",
       "2021-01-01    1\n",
       "2021-01-02    1\n",
       "2021-01-03    1\n",
       "Name: count, dtype: int64"
      ]
     },
     "execution_count": 90,
     "metadata": {},
     "output_type": "execute_result"
    }
   ],
   "source": [
    "Data[:10]"
   ]
  },
  {
   "cell_type": "code",
   "execution_count": 113,
   "id": "10d11c9c-ccec-4d21-a8a7-23aabee0f514",
   "metadata": {},
   "outputs": [
    {
     "data": {
      "image/png": "[encoded data removed]",
      "text/plain": [
       "<Figure size 800x500 with 1 Axes>"
      ]
     },
     "metadata": {},
     "output_type": "display_data"
    }
   ],
   "source": [
    "fig, ax = plt.subplots(figsize=(8,5))\n",
    "Data[:10].plot(kind='bar')\n",
    "ax.set(title = 'Top 10 Accidents Date',\n",
    "       xlabel = 'AccidentDate',\n",
    "       ylabel = 'Accidents Count')\n",
    "plt.show()"
   ]
  },
  {
   "cell_type": "code",
   "execution_count": 114,
   "id": "bc5fe91f-31a9-4ef8-be77-033528a42490",
   "metadata": {},
   "outputs": [
    {
     "data": {
      "text/plain": [
       "AccidentDate\n",
       "01-01-2003    0\n",
       "01-01-2004    0\n",
       "01-01-2008    0\n",
       "01-01-2011    0\n",
       "01-01-2012    0\n",
       "             ..\n",
       "31-12-2003    0\n",
       "31-12-2004    0\n",
       "31-12-2011    0\n",
       "31-12-2013    0\n",
       "31-12-2015    0\n",
       "Name: IDD, Length: 1612, dtype: int64"
      ]
     },
     "execution_count": 114,
     "metadata": {},
     "output_type": "execute_result"
    }
   ],
   "source": [
    "Accident_Date= df1.groupby('AccidentDate').count()['IDD']\n",
    "Accident_Date"
   ]
  },
  {
   "cell_type": "code",
   "execution_count": 135,
   "id": "c828d339-b449-4283-b231-910cdc7dc330",
   "metadata": {},
   "outputs": [
    {
     "data": {
      "image/png": "[encoded data removed]",
      "text/plain": [
       "<Figure size 800x600 with 1 Axes>"
      ]
     },
     "metadata": {},
     "output_type": "display_data"
    }
   ],
   "source": [
    "fig, ax = plt.subplots(figsize=(8, 6), subplot_kw=dict(aspect=\"equal\"))\n",
    "labels = [10,20,30,40]\n",
    "labels = ['Accident_Date 1', 'Accident_Date 2', 'Accident_Date 3', 'Accident_Date 4']\n",
    "plt.pie(Accident_Date, labels=labels,\n",
    "        autopct='%1.1f%%', pctdistance=0.85)\n",
    "circle = plt.Circle( (0,0), 0.5, color='white')\n",
    "p=plt.gcf()\n",
    "p.gca().add_artist(circle)\n",
    "ax.set_title(\"Accident_Date\",fontdict={'fontsize': 16})\n",
    "plt.tight_layout()\n",
    "plt.show()"
   ]
  },
  {
   "cell_type": "code",
   "execution_count": 136,
   "id": "38e51e02-0376-4a16-a8b4-db921e1bdaa5",
   "metadata": {},
   "outputs": [
    {
     "name": "stdout",
     "output_type": "stream",
     "text": [
      "datetime64[ns]\n",
      "               Timing\n",
      "0 2024-06-25 13:00:00\n",
      "1 2024-06-25 15:00:00\n",
      "2 2024-06-26 08:30:00\n",
      "3 2024-06-25 19:00:00\n"
     ]
    }
   ],
   "source": [
    "import pandas as pd\n",
    "data = {\n",
    "    'Timing': ['2024-06-25 13:00:00', 'Afternoon', '2024-06-26 08:30:00', 'Evening']\n",
    "}\n",
    "df1 = pd.DataFrame(data)\n",
    "def convert_timing(value):\n",
    "    if value == 'Afternoon':\n",
    "        return '2024-06-25 15:00:00'  \n",
    "    elif value == 'Evening':\n",
    "        return '2024-06-25 19:00:00'\n",
    "    else:\n",
    "        return value\n",
    "df1['Timing'] = df1['Timing'].apply(convert_timing)\n",
    "df1['Timing'] = pd.to_datetime(df1['Timing'])\n",
    "print(df1['Timing'].dtypes)\n",
    "print(df1)\n"
   ]
  },
  {
   "cell_type": "code",
   "execution_count": 123,
   "id": "f1be496e-b6dc-4488-8811-12cd6cbdd3c5",
   "metadata": {},
   "outputs": [
    {
     "data": {
      "image/png": "[encoded data removed]",
      "text/plain": [
       "<Figure size 800x500 with 1 Axes>"
      ]
     },
     "metadata": {},
     "output_type": "display_data"
    }
   ],
   "source": [
    "fig, ax = plt.subplots(figsize=(8,5))\n",
    "sns.histplot(df1['Timing'].dt.hour, bins = 24)\n",
    "\n",
    "plt.xlabel(\"Timing\")\n",
    "plt.ylabel(\"Number of Occurence\")\n",
    "plt.title('Accidents Count')\n",
    "\n",
    "plt.show()"
   ]
  },
  {
   "cell_type": "code",
   "execution_count": 148,
   "id": "19a53ee6-c4a3-4692-92c9-edafd78deda0",
   "metadata": {},
   "outputs": [
    {
     "data": {
      "text/plain": [
       "Index(['AccidentDate', 'Timing', 'State', 'WeatherCondition', 'RoadCondition',\n",
       "       'Deaths', 'Reason', 'IDD'],\n",
       "      dtype='object')"
      ]
     },
     "execution_count": 148,
     "metadata": {},
     "output_type": "execute_result"
    }
   ],
   "source": [
    "df1.columns"
   ]
  },
  {
   "cell_type": "code",
   "execution_count": 157,
   "id": "cb5bd19e-02e4-4dee-9a01-046d3eb6bf6c",
   "metadata": {},
   "outputs": [
    {
     "data": {
      "text/plain": [
       "WeatherCondition\n",
       "Rainy    623\n",
       "Foggy    603\n",
       "Clear    582\n",
       "Name: count, dtype: int64"
      ]
     },
     "execution_count": 157,
     "metadata": {},
     "output_type": "execute_result"
    }
   ],
   "source": [
    "Weather_Condition =df1['WeatherCondition'].value_counts()\n",
    "Weather_Condition"
   ]
  },
  {
   "cell_type": "code",
   "execution_count": 158,
   "id": "2354dd55-9777-446a-8cb1-2e391731ec36",
   "metadata": {},
   "outputs": [
    {
     "data": {
      "image/png": "[encoded data removed]",
      "text/plain": [
       "<Figure size 800x500 with 1 Axes>"
      ]
     },
     "metadata": {},
     "output_type": "display_data"
    }
   ],
   "source": [
    "fig, ax = plt.subplots(figsize=(8,5))\n",
    "Weather_Condition.sort_values(ascending=False)[:20].plot(kind='bar')\n",
    "ax.set(title = 'Weather Conditions at Time of Accident Occurence',\n",
    "       xlabel = 'Weather',\n",
    "       ylabel = 'Accidents Count')\n",
    "plt.show()\n"
   ]
  },
  {
   "cell_type": "code",
   "execution_count": null,
   "id": "2bf756fc-86fc-4add-881b-4715c1dd4897",
   "metadata": {},
   "outputs": [],
   "source": []
  },
  {
   "cell_type": "code",
   "execution_count": null,
   "id": "3f617acc-0343-476b-aa66-6a634e6a0549",
   "metadata": {},
   "outputs": [],
   "source": []
  }
 ],
 "metadata": {
  "kernelspec": {
   "display_name": "Python 3 (ipykernel)",
   "language": "python",
   "name": "python3"
  },
  "language_info": {
   "codemirror_mode": {
    "name": "ipython",
    "version": 3
   },
   "file_extension": ".py",
   "mimetype": "text/x-python",
   "name": "python",
   "nbconvert_exporter": "python",
   "pygments_lexer": "ipython3",
   "version": "3.12.3"
  }
 },
 "nbformat": 4,
 "nbformat_minor": 5
}
